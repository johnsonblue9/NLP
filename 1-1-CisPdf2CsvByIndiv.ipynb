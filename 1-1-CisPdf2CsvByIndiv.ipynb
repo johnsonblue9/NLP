{
 "cells": [
  {
   "cell_type": "markdown",
   "metadata": {},
   "source": [
    "### Name :  1-1-CisPdf2CsvByIndiv :\n",
    "### Function :  Extract text content from CIS PDF files \n",
    "### Source Data :  高雄市議會1屆1次至2屆8次市政總質詢"
   ]
  },
  {
   "cell_type": "code",
   "execution_count": 1,
   "metadata": {},
   "outputs": [],
   "source": [
    "# -*- coding: utf-8 -*-\n",
    "\"\"\"\n",
    "Created on May 13 2020\n",
    "@author: johnson\n",
    "\"\"\"\n",
    "\n",
    "# Extract PDF by Page\n",
    "from pdfminer.pdfinterp import PDFResourceManager, PDFPageInterpreter\n",
    "from pdfminer.converter import TextConverter\n",
    "from pdfminer.pdfpage import PDFPage\n",
    "import io\n",
    "import glob\n",
    "import csv\n",
    "import os.path"
   ]
  },
  {
   "cell_type": "markdown",
   "metadata": {},
   "source": [
    "###  user function : extract text data from PDF file via pdfminer "
   ]
  },
  {
   "cell_type": "code",
   "execution_count": 2,
   "metadata": {},
   "outputs": [],
   "source": [
    "def extract_text_by_page(pdfFile):\n",
    "    with open(pdfFile, 'rb') as fh:\n",
    "        for page in PDFPage.get_pages(fh, caching=True, check_extractable=True):\n",
    "            resource_manager = PDFResourceManager()\n",
    "            #codec = 'utf-8'\n",
    "            fake_file_handle = io.StringIO()\n",
    "            converter = TextConverter(resource_manager, fake_file_handle)\n",
    "            #  via TextConvert or HTMLConverter or XMLConverter\n",
    "            page_interpreter = PDFPageInterpreter(resource_manager, converter)\n",
    "            page_interpreter.process_page(page)\n",
    "            text = fake_file_handle.getvalue()\n",
    "            # print(text)\n",
    "            yield text\n",
    "            # close open handles\n",
    "            converter.close()\n",
    "            fake_file_handle.close()"
   ]
  },
  {
   "cell_type": "markdown",
   "metadata": {},
   "source": [
    "### user function : \n",
    "###        1) receive PDF file\n",
    "###        2) pass to  user function extract_text_by_page()   \n",
    "###        3) write into output file"
   ]
  },
  {
   "cell_type": "code",
   "execution_count": 3,
   "metadata": {},
   "outputs": [],
   "source": [
    "def export_as_csv(pdf_file, csv_path, isNew):\n",
    "    global FSeqNo\n",
    "    if isNew:\n",
    "        opMode = \"w\"\n",
    "    else:\n",
    "        opMode = 'a'\n",
    "    with open(csv_path, opMode, newline='', encoding='utf-8-sig') as csv_file:\n",
    "        writer = csv.writer(csv_file)\n",
    "        \n",
    "        print(\"PDF File: %s\" % pdf_file)\n",
    "        if isNew:\n",
    "            writer.writerow(['FileNo', 'FileName', 'Text'])   # write fields name into CSV file head\n",
    "            \n",
    "        pdfName = os.path.basename(pdf_file)\n",
    "        FSeqNo += 1\n",
    "        contain = \"\"\n",
    "        for page in extract_text_by_page(pdf_file):\n",
    "            contain = contain + page \n",
    "            \n",
    "        writer.writerow([FSeqNo, pdfName, contain])"
   ]
  },
  {
   "cell_type": "markdown",
   "metadata": {},
   "source": [
    "### main "
   ]
  },
  {
   "cell_type": "code",
   "execution_count": 4,
   "metadata": {},
   "outputs": [
    {
     "name": "stdout",
     "output_type": "stream",
     "text": [
      "PDF File: KCC Data/CIS Pdf test\\1-1-1000516-1-蘇炎城.pdf\n",
      "PDF File: KCC Data/CIS Pdf test\\1-1-1000516-2-張勝富.pdf\n",
      "PDF File: KCC Data/CIS Pdf test\\1-1-1000516-3-吳益政.pdf\n",
      "PDF File: KCC Data/CIS Pdf test\\1-1-1000516-4-鄭光峰.pdf\n",
      "PDF File: KCC Data/CIS Pdf test\\1-1-1000517-1-林國正.pdf\n",
      "PDF File: KCC Data/CIS Pdf test\\1100510 參訪市議會名單.pdf\n",
      "PDF File: KCC Data/CIS Pdf test\\Chronicle 第三屆第一次 - PdfMiner test.pdf\n",
      "PDF File: KCC Data/CIS Pdf test\\立法院第10屆第3會期第7次會議議事錄.pdf\n",
      "PDF File: KCC Data/CIS Pdf test\\立法院第10屆第3會期第8次會議議事錄.pdf\n"
     ]
    }
   ],
   "source": [
    "# pdf_path = \"KCC Data/CIS PDF Indiv 1-1 to 2-8/\" \n",
    "pdf_path = \"KCC Data/CIS Pdf test\" \n",
    "pdfs = glob.glob(\"{}/*.pdf\".format(pdf_path))\n",
    "newFlag = True\n",
    "FSeqNo = 0\n",
    "csv_path = \"CisPdf2CsvbyIndiv.csv\"\n",
    "for pdf in pdfs:\n",
    "    export_as_csv(pdf, csv_path, newFlag)\n",
    "    newFlag = False"
   ]
  },
  {
   "cell_type": "code",
   "execution_count": null,
   "metadata": {},
   "outputs": [],
   "source": []
  }
 ],
 "metadata": {
  "kernelspec": {
   "display_name": "Python 3",
   "language": "python",
   "name": "python3"
  },
  "language_info": {
   "codemirror_mode": {
    "name": "ipython",
    "version": 3
   },
   "file_extension": ".py",
   "mimetype": "text/x-python",
   "name": "python",
   "nbconvert_exporter": "python",
   "pygments_lexer": "ipython3",
   "version": "3.7.1"
  }
 },
 "nbformat": 4,
 "nbformat_minor": 2
}
